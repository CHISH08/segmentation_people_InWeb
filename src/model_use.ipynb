{
 "cells": [
  {
   "cell_type": "code",
   "execution_count": null,
   "metadata": {},
   "outputs": [],
   "source": [
    "import tensorflow as tf\n",
    "import os\n",
    "import matplotlib.pyplot as plt"
   ]
  },
  {
   "cell_type": "code",
   "execution_count": null,
   "metadata": {},
   "outputs": [],
   "source": [
    "IMG_HEIGHT = 384\n",
    "IMG_WIDTH = 384"
   ]
  },
  {
   "cell_type": "code",
   "execution_count": null,
   "metadata": {},
   "outputs": [],
   "source": [
    "!git clone --depth 1 git@github.com:CHISH08/segmentation_people_InWeb.git --single-branch DeepLabV3Plus"
   ]
  },
  {
   "cell_type": "code",
   "execution_count": null,
   "metadata": {},
   "outputs": [],
   "source": [
    "model = tf.keras.load_model(\"DeepLabV3Plus\")\n",
    "for lay in model.layers:\n",
    "    lay.trainable = False"
   ]
  },
  {
   "cell_type": "code",
   "execution_count": null,
   "metadata": {},
   "outputs": [],
   "source": [
    "X_path = \"example_image\"\n",
    "examp_img = sorted([os.path.join(dp, f) for dp, dn, filenames in os.walk(X_path) for f in filenames if os.path.splitext(f)[1] == '.png' or os.path.splitext(f)[1] == '.jpg'])"
   ]
  },
  {
   "cell_type": "code",
   "execution_count": null,
   "metadata": {},
   "outputs": [],
   "source": [
    "for img_path in examp_img:\n",
    "    fig = plt.figure(figsize=(20,13))\n",
    "    image = tf.io.read_file(img_path)\n",
    "    image = tf.image.decode_jpeg(image, channels=3)\n",
    "    image = tf.image.resize(image, (IMG_HEIGHT, IMG_WIDTH), method=\"bicubic\")\n",
    "    image = tf.cast(image, dtype=tf.float32) / 255.\n",
    "    pred = model.predict(tf.expand_dims(image, 0))[0]\n",
    "    mask = (pred < 0.9)\n",
    "    mask = tf.where(mask, tf.ones_like(image), image)\n",
    "    mask = tf.image.resize(mask, size=(384, 384), method='bicubic')\n",
    "    fig.add_subplot(1, 3, 1)\n",
    "    plt.imshow(pred, cmap=\"gray\")\n",
    "    plt.title('Predicted mask')\n",
    "    plt.axis('off')\n",
    "    fig.add_subplot(1, 3, 2)\n",
    "    plt.imshow(mask, cmap=\"gray\")\n",
    "    plt.title('Predicted image')\n",
    "    plt.axis('off')\n",
    "    fig.add_subplot(1, 3, 3)\n",
    "    plt.imshow(image, cmap=\"gray\")\n",
    "    plt.title('Original image')\n",
    "    plt.axis('off')\n",
    "    plt.show()\n",
    "    print(end=\"\\n\\n\")\n",
    "    "
   ]
  }
 ],
 "metadata": {
  "language_info": {
   "name": "python"
  },
  "orig_nbformat": 4
 },
 "nbformat": 4,
 "nbformat_minor": 2
}
