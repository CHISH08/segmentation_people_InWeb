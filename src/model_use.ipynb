{
 "cells": [
  {
   "cell_type": "code",
   "execution_count": 4,
   "metadata": {},
   "outputs": [
    {
     "name": "stderr",
     "output_type": "stream",
     "text": [
      "2023-08-23 00:21:49.820831: I tensorflow/core/platform/cpu_feature_guard.cc:182] This TensorFlow binary is optimized to use available CPU instructions in performance-critical operations.\n",
      "To enable the following instructions: AVX2 FMA, in other operations, rebuild TensorFlow with the appropriate compiler flags.\n",
      "2023-08-23 00:21:50.782663: W tensorflow/compiler/tf2tensorrt/utils/py_utils.cc:38] TF-TRT Warning: Could not find TensorRT\n"
     ]
    }
   ],
   "source": [
    "import tensorflow as tf\n",
    "import os\n",
    "import matplotlib.pyplot as plt"
   ]
  },
  {
   "cell_type": "code",
   "execution_count": 5,
   "metadata": {},
   "outputs": [],
   "source": [
    "IMG_HEIGHT = 384\n",
    "IMG_WIDTH = 384"
   ]
  },
  {
   "cell_type": "code",
   "execution_count": 28,
   "metadata": {},
   "outputs": [],
   "source": [
    "model = tf.keras.models.load_model(\"../DeepLabV3Plus\")\n",
    "for lay in model.layers:\n",
    "    lay.trainable = False"
   ]
  },
  {
   "cell_type": "code",
   "execution_count": 29,
   "metadata": {},
   "outputs": [],
   "source": [
    "X_path = \"../example_image\"\n",
    "examp_img = sorted([os.path.join(dp, f) for dp, dn, filenames in os.walk(X_path) for f in filenames if os.path.splitext(f)[1] == '.png' or os.path.splitext(f)[1] == '.jpg'])"
   ]
  },
  {
   "cell_type": "code",
   "execution_count": 32,
   "metadata": {},
   "outputs": [],
   "source": [
    "import time"
   ]
  },
  {
   "cell_type": "code",
   "execution_count": 34,
   "metadata": {},
   "outputs": [
    {
     "name": "stdout",
     "output_type": "stream",
     "text": [
      "1/1 [==============================] - 0s 64ms/step\n",
      "Время выполнения модели: 0.14524126052856445 секунд\n",
      "1/1 [==============================] - 0s 23ms/step\n",
      "Время выполнения модели: 0.09021925926208496 секунд\n",
      "1/1 [==============================] - 0s 16ms/step\n",
      "Время выполнения модели: 0.07322430610656738 секунд\n",
      "1/1 [==============================] - 0s 16ms/step\n",
      "Время выполнения модели: 0.0732719898223877 секунд\n",
      "1/1 [==============================] - 0s 16ms/step\n",
      "Время выполнения модели: 0.07421994209289551 секунд\n",
      "1/1 [==============================] - 0s 18ms/step\n",
      "Время выполнения модели: 0.07695794105529785 секунд\n",
      "1/1 [==============================] - 0s 19ms/step\n",
      "Время выполнения модели: 0.07547235488891602 секунд\n",
      "1/1 [==============================] - 0s 18ms/step\n",
      "Время выполнения модели: 0.07586002349853516 секунд\n",
      "1/1 [==============================] - 0s 16ms/step\n",
      "Время выполнения модели: 0.07192730903625488 секунд\n",
      "1/1 [==============================] - 0s 16ms/step\n",
      "Время выполнения модели: 0.07419991493225098 секунд\n",
      "1/1 [==============================] - 0s 17ms/step\n",
      "Время выполнения модели: 0.07694768905639648 секунд\n",
      "1/1 [==============================] - 0s 17ms/step\n",
      "Время выполнения модели: 0.07363700866699219 секунд\n"
     ]
    }
   ],
   "source": [
    "for img_path in examp_img:\n",
    "    # fig = plt.figure(figsize=(20,13))\n",
    "    image = tf.io.read_file(img_path)\n",
    "    image = tf.image.decode_jpeg(image, channels=3)\n",
    "    image = tf.image.resize(image, (IMG_HEIGHT, IMG_WIDTH), method=\"bicubic\")\n",
    "    image = tf.cast(image, dtype=tf.float32) / 255.\n",
    "    start_time = time.time()\n",
    "    pred = model.predict(tf.expand_dims(image, 0))[0]\n",
    "    print(\"Время выполнения модели: {} секунд\".format(time.time() - start_time))\n",
    "    # mask = (pred < 0.9)\n",
    "    # mask = tf.where(mask, tf.ones_like(image), image)\n",
    "    # mask = tf.image.resize(mask, size=(384, 384), method='bicubic')\n",
    "    # fig.add_subplot(1, 3, 1)\n",
    "    # plt.imshow(pred, cmap=\"gray\")\n",
    "    # plt.title('Predicted mask')\n",
    "    # plt.axis('off')\n",
    "    # fig.add_subplot(1, 3, 2)\n",
    "    # plt.imshow(mask, cmap=\"gray\")\n",
    "    # plt.title('Predicted image')\n",
    "    # plt.axis('off')\n",
    "    # fig.add_subplot(1, 3, 3)\n",
    "    # plt.imshow(image, cmap=\"gray\")\n",
    "    # plt.title('Original image')\n",
    "    # plt.axis('off')\n",
    "    # plt.show()\n",
    "    # print(end=\"\\n\\n\")\n",
    "    "
   ]
  }
 ],
 "metadata": {
  "kernelspec": {
   "display_name": "Python 3",
   "language": "python",
   "name": "python3"
  },
  "language_info": {
   "codemirror_mode": {
    "name": "ipython",
    "version": 3
   },
   "file_extension": ".py",
   "mimetype": "text/x-python",
   "name": "python",
   "nbconvert_exporter": "python",
   "pygments_lexer": "ipython3",
   "version": "3.10.12"
  },
  "orig_nbformat": 4
 },
 "nbformat": 4,
 "nbformat_minor": 2
}
